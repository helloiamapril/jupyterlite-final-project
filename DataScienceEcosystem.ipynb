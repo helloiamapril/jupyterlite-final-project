{
 "cells": [
  {
   "cell_type": "code",
   "execution_count": null,
   "id": "e466fc88-545e-493a-bad4-20b1314def37",
   "metadata": {},
   "outputs": [],
   "source": [
    "# Title of the Notebook"
   ]
  },
  {
   "cell_type": "code",
   "execution_count": null,
   "id": "93667772-7995-4a46-8f9a-bae4afccb9a7",
   "metadata": {},
   "outputs": [],
   "source": [
    "## Introduction\n",
    "This notebook is created to demonstrate various aspects of data science, including programming, libraries, tools, and basic operations.\n"
   ]
  },
  {
   "cell_type": "code",
   "execution_count": null,
   "id": "452d77eb-6c27-4d3a-a0f8-ad5ea34a38de",
   "metadata": {},
   "outputs": [],
   "source": [
    "## Data Science Languages\n",
    "- Python\n",
    "- R\n",
    "- Julia\n",
    "- SQL\n"
   ]
  },
  {
   "cell_type": "code",
   "execution_count": null,
   "id": "84c6c510-7523-4441-b8e6-36c9b4a47710",
   "metadata": {},
   "outputs": [],
   "source": [
    "## Data Science Libraries\n",
    "- NumPy\n",
    "- Pandas\n",
    "- Matplotlib\n",
    "- Scikit-learn\n",
    "- TensorFlow\n",
    "- ggplot2\n"
   ]
  },
  {
   "cell_type": "code",
   "execution_count": null,
   "id": "d8d9d148-f714-49f9-a0c4-af4b8f783b6c",
   "metadata": {},
   "outputs": [],
   "source": [
    "## Data Science Tools\n",
    "| Tool           | Purpose                       |\n",
    "|----------------|-------------------------------|\n",
    "| Jupyter        | Interactive computing         |\n",
    "| RStudio        | Statistical computing         |\n",
    "| Tableau        | Data visualization            |\n"
   ]
  },
  {
   "cell_type": "code",
   "execution_count": null,
   "id": "3be13299-0ea9-4f7f-abd4-588e72b0891d",
   "metadata": {},
   "outputs": [],
   "source": [
    "## Arithmetic Expression Examples\n",
    "This section demonstrates examples of basic arithmetic operations.\n"
   ]
  },
  {
   "cell_type": "code",
   "execution_count": null,
   "id": "0af69316-2eeb-4c58-968b-a6c97df25b43",
   "metadata": {},
   "outputs": [],
   "source": [
    "# Multiply and add numbers\n",
    "result = (5 * 3) + 2\n",
    "print(result)\n"
   ]
  },
  {
   "cell_type": "code",
   "execution_count": null,
   "id": "b288f62c-11d6-4fbf-84ce-f916dd538904",
   "metadata": {},
   "outputs": [],
   "source": [
    "# Convert minutes to hours\n",
    "minutes = 120\n",
    "hours = minutes / 60\n",
    "print(f\"{minutes} minutes is equal to {hours} hours.\")\n"
   ]
  },
  {
   "cell_type": "code",
   "execution_count": null,
   "id": "1ca7e27b-3447-4606-abcc-0936a0aa5575",
   "metadata": {},
   "outputs": [],
   "source": [
    "## Objectives\n",
    "- Understand basic arithmetic operations.\n",
    "- Learn to use markdown for documentation.\n",
    "- Explore data science languages and libraries.\n",
    "- Practice sharing work via GitHub.\n"
   ]
  },
  {
   "cell_type": "code",
   "execution_count": null,
   "id": "6767099a-5079-4784-a90a-86c0f4f0442e",
   "metadata": {},
   "outputs": [],
   "source": [
    "## Author\n",
    "Yujia Chang\n"
   ]
  }
 ],
 "metadata": {
  "kernelspec": {
   "display_name": "Python 3 (ipykernel)",
   "language": "python",
   "name": "python3"
  },
  "language_info": {
   "codemirror_mode": {
    "name": "ipython",
    "version": 3
   },
   "file_extension": ".py",
   "mimetype": "text/x-python",
   "name": "python",
   "nbconvert_exporter": "python",
   "pygments_lexer": "ipython3",
   "version": "3.11.9"
  }
 },
 "nbformat": 4,
 "nbformat_minor": 5
}
